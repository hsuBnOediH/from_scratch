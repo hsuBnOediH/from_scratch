{
 "cells": [
  {
   "cell_type": "markdown",
   "source": [
    "# Install and Import packages"
   ],
   "metadata": {
    "collapsed": false
   },
   "id": "1e83f06c1de74b2"
  },
  {
   "cell_type": "code",
   "outputs": [
    {
     "name": "stdout",
     "output_type": "stream",
     "text": [
      "Requirement already satisfied: wandb in /Users/fengli/anaconda3/envs/from_scratch/lib/python3.11/site-packages (0.16.5)\r\n",
      "Requirement already satisfied: Click!=8.0.0,>=7.1 in /Users/fengli/anaconda3/envs/from_scratch/lib/python3.11/site-packages (from wandb) (8.1.7)\r\n",
      "Requirement already satisfied: GitPython!=3.1.29,>=1.0.0 in /Users/fengli/anaconda3/envs/from_scratch/lib/python3.11/site-packages (from wandb) (3.1.43)\r\n",
      "Requirement already satisfied: requests<3,>=2.0.0 in /Users/fengli/anaconda3/envs/from_scratch/lib/python3.11/site-packages (from wandb) (2.31.0)\r\n",
      "Requirement already satisfied: psutil>=5.0.0 in /Users/fengli/anaconda3/envs/from_scratch/lib/python3.11/site-packages (from wandb) (5.9.0)\r\n",
      "Requirement already satisfied: sentry-sdk>=1.0.0 in /Users/fengli/anaconda3/envs/from_scratch/lib/python3.11/site-packages (from wandb) (1.44.0)\r\n",
      "Requirement already satisfied: docker-pycreds>=0.4.0 in /Users/fengli/anaconda3/envs/from_scratch/lib/python3.11/site-packages (from wandb) (0.4.0)\r\n",
      "Requirement already satisfied: PyYAML in /Users/fengli/anaconda3/envs/from_scratch/lib/python3.11/site-packages (from wandb) (6.0.1)\r\n",
      "Requirement already satisfied: setproctitle in /Users/fengli/anaconda3/envs/from_scratch/lib/python3.11/site-packages (from wandb) (1.3.3)\r\n",
      "Requirement already satisfied: setuptools in /Users/fengli/anaconda3/envs/from_scratch/lib/python3.11/site-packages (from wandb) (68.2.2)\r\n",
      "Requirement already satisfied: appdirs>=1.4.3 in /Users/fengli/anaconda3/envs/from_scratch/lib/python3.11/site-packages (from wandb) (1.4.4)\r\n",
      "Requirement already satisfied: protobuf!=4.21.0,<5,>=3.19.0 in /Users/fengli/anaconda3/envs/from_scratch/lib/python3.11/site-packages (from wandb) (4.25.3)\r\n",
      "Requirement already satisfied: six>=1.4.0 in /Users/fengli/anaconda3/envs/from_scratch/lib/python3.11/site-packages (from docker-pycreds>=0.4.0->wandb) (1.16.0)\r\n",
      "Requirement already satisfied: gitdb<5,>=4.0.1 in /Users/fengli/anaconda3/envs/from_scratch/lib/python3.11/site-packages (from GitPython!=3.1.29,>=1.0.0->wandb) (4.0.11)\r\n",
      "Requirement already satisfied: charset-normalizer<4,>=2 in /Users/fengli/anaconda3/envs/from_scratch/lib/python3.11/site-packages (from requests<3,>=2.0.0->wandb) (2.0.4)\r\n",
      "Requirement already satisfied: idna<4,>=2.5 in /Users/fengli/anaconda3/envs/from_scratch/lib/python3.11/site-packages (from requests<3,>=2.0.0->wandb) (3.4)\r\n",
      "Requirement already satisfied: urllib3<3,>=1.21.1 in /Users/fengli/anaconda3/envs/from_scratch/lib/python3.11/site-packages (from requests<3,>=2.0.0->wandb) (2.1.0)\r\n",
      "Requirement already satisfied: certifi>=2017.4.17 in /Users/fengli/anaconda3/envs/from_scratch/lib/python3.11/site-packages (from requests<3,>=2.0.0->wandb) (2024.2.2)\r\n",
      "Requirement already satisfied: smmap<6,>=3.0.1 in /Users/fengli/anaconda3/envs/from_scratch/lib/python3.11/site-packages (from gitdb<5,>=4.0.1->GitPython!=3.1.29,>=1.0.0->wandb) (5.0.1)\r\n"
     ]
    }
   ],
   "source": [
    "! pip install wandb"
   ],
   "metadata": {
    "collapsed": false,
    "ExecuteTime": {
     "end_time": "2024-04-11T18:55:10.953763Z",
     "start_time": "2024-04-11T18:55:09.492625Z"
    }
   },
   "id": "be348e0bfb157c",
   "execution_count": 4
  },
  {
   "cell_type": "code",
   "outputs": [],
   "source": [
    "import os.path\n",
    "import random\n",
    "from datetime import time\n",
    "\n",
    "import numpy as np\n",
    "import torch\n",
    "import pickle\n",
    "from tqdm import tqdm\n",
    "from torch.utils.data import DataLoader\n",
    "import wandb\n",
    "from transformers import AutoTokenizer\n"
   ],
   "metadata": {
    "collapsed": false,
    "ExecuteTime": {
     "end_time": "2024-04-11T18:59:52.337596Z",
     "start_time": "2024-04-11T18:59:52.031479Z"
    }
   },
   "id": "afc815861d75e9ce",
   "execution_count": 7
  },
  {
   "cell_type": "markdown",
   "source": [
    "# Check environment"
   ],
   "metadata": {
    "collapsed": false
   },
   "id": "da4c44fb48d262e5"
  },
  {
   "cell_type": "code",
   "outputs": [],
   "source": [
    "# check if the system is running on colab or macbook m1 pro\n",
    "import platform\n",
    "import os\n",
    "op_system = platform.system()\n"
   ],
   "metadata": {
    "collapsed": false,
    "ExecuteTime": {
     "end_time": "2024-04-11T18:59:53.422011Z",
     "start_time": "2024-04-11T18:59:53.420009Z"
    }
   },
   "id": "71684418f401d651",
   "execution_count": 8
  },
  {
   "cell_type": "markdown",
   "source": [
    "# Import Data"
   ],
   "metadata": {
    "collapsed": false
   },
   "id": "6b368a97601cce09"
  },
  {
   "cell_type": "code",
   "outputs": [],
   "source": [
    "if op_system == 'Darwin':\n",
    "    # Macbook\n",
    "    data_path = '../../data/translation/wmt14-en-de/'\n",
    "elif op_system == 'Linux':\n",
    "    # Colab\n",
    "    from google.colab import drive\n",
    "    drive.mount('/content/drive')\n",
    "\n",
    "    data_path = '/content/drive/MyDrive/Projects/nlp_emotion/data/'"
   ],
   "metadata": {
    "collapsed": false,
    "ExecuteTime": {
     "end_time": "2024-04-11T18:59:54.560687Z",
     "start_time": "2024-04-11T18:59:54.558716Z"
    }
   },
   "id": "abee6ce01d812c0a",
   "execution_count": 9
  },
  {
   "cell_type": "markdown",
   "source": [
    "# Config"
   ],
   "metadata": {
    "collapsed": false
   },
   "id": "f4963a316123c0d5"
  },
  {
   "cell_type": "code",
   "outputs": [],
   "source": [
    "\n",
    "# REPORT_WANDB = True\n",
    "REPORT_WANDB = False\n",
    "run_name = \"self_implemented_transformer_not_converging\"\n",
    "\n",
    "check_point_folder_path = data_path + \"/check_point\"\n",
    "\n",
    "device_type = \"cpu\"\n",
    "if not torch.cuda.is_available():\n",
    "    device_type = \"mps\"\n",
    "elif op_system == 'Darwin':\n",
    "    device_type = \"cuda\"\n",
    "device = torch.device(device_type)\n",
    "\n",
    "\n",
    "\n",
    "\n",
    "BATCH_SIZE = 32 if device_type == \"mps\" else 12\n",
    "SEQ_LEN = 64 if device_type == \"mps\" else 512\n",
    "ENCODER_LAYER_NUM = 6\n",
    "DECODER_LAYER_NUM = 6\n",
    "D_MODEL = 256 if device_type == \"mps\" else 512\n",
    "HIDDEN_DIM = 512 if device_type == \"mps\" else 2048\n",
    "NUM_HEADS = 8\n",
    "DROPOUT = 0.1\n",
    "tokenizer = AutoTokenizer.from_pretrained(\"gpt2\",pad_token=\"<pad>\",bos_token=\"<sos>\",eos_token=\"<eos>\",\n",
    "                                                       add_bos_token=True, add_eos_token=True,max_length=SEQ_LEN, padding=\"max_length\")\n",
    "VOCAB_SIZE = tokenizer.vocab_size\n",
    "EPOCHS = 3\n",
    "STEPS = 1000000\n",
    "BETA1 = 0.9\n",
    "BETA2 = 0.98\n",
    "EPSILON = 1e-9\n",
    "LEARNING_RATE = 0.00001\n",
    "WARMUP_STEPS = 4000\n",
    "\n",
    "seed_value = 42\n",
    "torch.manual_seed(seed_value)\n",
    "random.seed(seed_value)\n",
    "np.random.seed(seed_value)"
   ],
   "metadata": {
    "collapsed": false,
    "ExecuteTime": {
     "end_time": "2024-04-11T18:59:57.326450Z",
     "start_time": "2024-04-11T18:59:56.749385Z"
    }
   },
   "id": "10292570894400b0",
   "execution_count": 10
  },
  {
   "cell_type": "code",
   "outputs": [
    {
     "name": "stdout",
     "output_type": "stream",
     "text": [
      "50257\n"
     ]
    }
   ],
   "source": [
    "print(VOCAB_SIZE)"
   ],
   "metadata": {
    "collapsed": false,
    "ExecuteTime": {
     "end_time": "2024-04-11T19:00:08.137162Z",
     "start_time": "2024-04-11T19:00:08.135042Z"
    }
   },
   "id": "6c7f94a7255ff990",
   "execution_count": 11
  },
  {
   "cell_type": "code",
   "outputs": [],
   "source": [],
   "metadata": {
    "collapsed": false
   },
   "id": "61a7bea559c8ef2e"
  }
 ],
 "metadata": {
  "kernelspec": {
   "display_name": "Python 3",
   "language": "python",
   "name": "python3"
  },
  "language_info": {
   "codemirror_mode": {
    "name": "ipython",
    "version": 2
   },
   "file_extension": ".py",
   "mimetype": "text/x-python",
   "name": "python",
   "nbconvert_exporter": "python",
   "pygments_lexer": "ipython2",
   "version": "2.7.6"
  }
 },
 "nbformat": 4,
 "nbformat_minor": 5
}
