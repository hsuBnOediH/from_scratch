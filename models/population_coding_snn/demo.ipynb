{
 "cells": [
  {
   "cell_type": "markdown",
   "source": [
    "# 0. Package Import"
   ],
   "metadata": {
    "collapsed": false
   },
   "id": "7f72bde26fa06b29"
  },
  {
   "cell_type": "code",
   "execution_count": 4,
   "id": "initial_id",
   "metadata": {
    "collapsed": true,
    "ExecuteTime": {
     "end_time": "2024-06-25T17:40:03.720949Z",
     "start_time": "2024-06-25T17:40:03.718485Z"
    }
   },
   "outputs": [],
   "source": [
    "import torch, torch.nn as nn\n",
    "import snntorch as snn"
   ]
  },
  {
   "cell_type": "markdown",
   "source": [
    "# 1. Hyperparams"
   ],
   "metadata": {
    "collapsed": false
   },
   "id": "b187c127e70c1d83"
  },
  {
   "cell_type": "code",
   "outputs": [],
   "source": [
    "batch_size = 128\n",
    "data_path='/tmp/data/fmnist'\n",
    "device = torch.device(\"cuda\") if torch.cuda.is_available() else torch.device(\"mps\") if torch.backends.mps.is_available() else torch.device(\"cpu\")"
   ],
   "metadata": {
    "collapsed": false,
    "ExecuteTime": {
     "end_time": "2024-06-25T17:41:03.281660Z",
     "start_time": "2024-06-25T17:41:03.279603Z"
    }
   },
   "id": "a08747a2f23c50f3",
   "execution_count": 7
  },
  {
   "cell_type": "markdown",
   "source": [
    "# 2. Data Load"
   ],
   "metadata": {
    "collapsed": false
   },
   "id": "ef06165b545653cb"
  },
  {
   "cell_type": "code",
   "outputs": [
    {
     "name": "stdout",
     "output_type": "stream",
     "text": [
      "Downloading http://fashion-mnist.s3-website.eu-central-1.amazonaws.com/train-images-idx3-ubyte.gz\n",
      "Downloading http://fashion-mnist.s3-website.eu-central-1.amazonaws.com/train-images-idx3-ubyte.gz to /tmp/data/fmnist/FashionMNIST/raw/train-images-idx3-ubyte.gz\n"
     ]
    },
    {
     "name": "stderr",
     "output_type": "stream",
     "text": [
      "100%|██████████| 26421880/26421880 [00:08<00:00, 3154993.34it/s]\n"
     ]
    },
    {
     "name": "stdout",
     "output_type": "stream",
     "text": [
      "Extracting /tmp/data/fmnist/FashionMNIST/raw/train-images-idx3-ubyte.gz to /tmp/data/fmnist/FashionMNIST/raw\n",
      "\n",
      "Downloading http://fashion-mnist.s3-website.eu-central-1.amazonaws.com/train-labels-idx1-ubyte.gz\n",
      "Downloading http://fashion-mnist.s3-website.eu-central-1.amazonaws.com/train-labels-idx1-ubyte.gz to /tmp/data/fmnist/FashionMNIST/raw/train-labels-idx1-ubyte.gz\n"
     ]
    },
    {
     "name": "stderr",
     "output_type": "stream",
     "text": [
      "100%|██████████| 29515/29515 [00:00<00:00, 190334.78it/s]\n"
     ]
    },
    {
     "name": "stdout",
     "output_type": "stream",
     "text": [
      "Extracting /tmp/data/fmnist/FashionMNIST/raw/train-labels-idx1-ubyte.gz to /tmp/data/fmnist/FashionMNIST/raw\n",
      "\n",
      "Downloading http://fashion-mnist.s3-website.eu-central-1.amazonaws.com/t10k-images-idx3-ubyte.gz\n",
      "Downloading http://fashion-mnist.s3-website.eu-central-1.amazonaws.com/t10k-images-idx3-ubyte.gz to /tmp/data/fmnist/FashionMNIST/raw/t10k-images-idx3-ubyte.gz\n"
     ]
    },
    {
     "name": "stderr",
     "output_type": "stream",
     "text": [
      "100%|██████████| 4422102/4422102 [00:02<00:00, 1585766.07it/s]\n"
     ]
    },
    {
     "name": "stdout",
     "output_type": "stream",
     "text": [
      "Extracting /tmp/data/fmnist/FashionMNIST/raw/t10k-images-idx3-ubyte.gz to /tmp/data/fmnist/FashionMNIST/raw\n",
      "\n",
      "Downloading http://fashion-mnist.s3-website.eu-central-1.amazonaws.com/t10k-labels-idx1-ubyte.gz\n",
      "Downloading http://fashion-mnist.s3-website.eu-central-1.amazonaws.com/t10k-labels-idx1-ubyte.gz to /tmp/data/fmnist/FashionMNIST/raw/t10k-labels-idx1-ubyte.gz\n"
     ]
    },
    {
     "name": "stderr",
     "output_type": "stream",
     "text": [
      "100%|██████████| 5148/5148 [00:00<00:00, 20524978.13it/s]"
     ]
    },
    {
     "name": "stdout",
     "output_type": "stream",
     "text": [
      "Extracting /tmp/data/fmnist/FashionMNIST/raw/t10k-labels-idx1-ubyte.gz to /tmp/data/fmnist/FashionMNIST/raw\n"
     ]
    },
    {
     "name": "stderr",
     "output_type": "stream",
     "text": [
      "\n"
     ]
    }
   ],
   "source": [
    "from torch.utils.data import DataLoader\n",
    "from torchvision import datasets, transforms\n",
    "\n",
    "# Define a transform\n",
    "transform = transforms.Compose([\n",
    "            transforms.Resize((28, 28)),\n",
    "            transforms.Grayscale(),\n",
    "            transforms.ToTensor(),\n",
    "            transforms.Normalize((0,), (1,))])\n",
    "\n",
    "fmnist_train = datasets.FashionMNIST(data_path, train=True, download=True, transform=transform)\n",
    "fmnist_test = datasets.FashionMNIST(data_path, train=False, download=True, transform=transform)\n",
    "\n",
    "# Create DataLoaders\n",
    "train_loader = DataLoader(fmnist_train, batch_size=batch_size, shuffle=True)\n",
    "test_loader = DataLoader(fmnist_test, batch_size=batch_size, shuffle=True)"
   ],
   "metadata": {
    "collapsed": false,
    "ExecuteTime": {
     "end_time": "2024-06-25T17:42:12.694125Z",
     "start_time": "2024-06-25T17:41:57.369511Z"
    }
   },
   "id": "3c8ed65b13660656",
   "execution_count": 9
  },
  {
   "cell_type": "markdown",
   "source": [
    "# 3. Model"
   ],
   "metadata": {
    "collapsed": false
   },
   "id": "d9f50c2058982945"
  },
  {
   "cell_type": "code",
   "outputs": [],
   "source": [
    "from snntorch import surrogate\n",
    "\n",
    "# network parameters\n",
    "num_inputs = 28*28\n",
    "num_hidden = 128\n",
    "num_outputs = 10\n",
    "num_steps = 1\n",
    "\n",
    "beta = 0.9  # neuron decay rate\n",
    "grad = surrogate.fast_sigmoid()"
   ],
   "metadata": {
    "collapsed": false,
    "ExecuteTime": {
     "end_time": "2024-06-25T17:48:40.499813Z",
     "start_time": "2024-06-25T17:48:40.496914Z"
    }
   },
   "id": "71e89986295facec",
   "execution_count": 24
  },
  {
   "cell_type": "code",
   "outputs": [],
   "source": [
    "net = nn.Sequential(nn.Flatten(),\n",
    "                    nn.Linear(num_inputs, num_hidden),\n",
    "                    snn.Leaky(beta=beta, spike_grad=grad, init_hidden=True),\n",
    "                    nn.Linear(num_hidden, num_outputs),\n",
    "                    snn.Leaky(beta=beta, spike_grad=grad, init_hidden=True, output=True)\n",
    "                    ).to(device)"
   ],
   "metadata": {
    "collapsed": false,
    "ExecuteTime": {
     "end_time": "2024-06-25T17:46:48.493716Z",
     "start_time": "2024-06-25T17:46:48.485238Z"
    }
   },
   "id": "9b83b0622a8b2ef4",
   "execution_count": 21
  },
  {
   "cell_type": "code",
   "outputs": [],
   "source": [
    "output_pre_class = 50\n",
    "pop_outputs = num_outputs * output_pre_class\n",
    "\n",
    "net_pop = nn.Sequential(nn.Flatten(),\n",
    "                        nn.Linear(num_inputs, num_hidden),\n",
    "                        snn.Leaky(beta=beta, spike_grad=grad, init_hidden=True),\n",
    "                        nn.Linear(num_hidden, pop_outputs),\n",
    "                        snn.Leaky(beta=beta, spike_grad=grad, init_hidden=True, output=True)\n",
    "                        ).to(device)"
   ],
   "metadata": {
    "collapsed": false,
    "ExecuteTime": {
     "end_time": "2024-06-25T17:48:44.109984Z",
     "start_time": "2024-06-25T17:48:44.101582Z"
    }
   },
   "id": "40d0912f5613040c",
   "execution_count": 25
  },
  {
   "cell_type": "markdown",
   "source": [
    "# 4. Training"
   ],
   "metadata": {
    "collapsed": false
   },
   "id": "71cf7371b8615826"
  },
  {
   "cell_type": "code",
   "outputs": [
    {
     "name": "stdout",
     "output_type": "stream",
     "text": [
      "Epoch: 0\n",
      "Test set accuracy: 60.661%\n",
      "Epoch: 1\n",
      "Test set accuracy: 56.260%\n",
      "Epoch: 2\n",
      "Test set accuracy: 65.971%\n",
      "Epoch: 3\n",
      "Test set accuracy: 68.829%\n",
      "Epoch: 4\n",
      "Test set accuracy: 67.692%\n"
     ]
    }
   ],
   "source": [
    "import snntorch.functional as SF\n",
    "\n",
    "optimizer = torch.optim.Adam(net.parameters(), lr=2e-3, betas=(0.9, 0.999))\n",
    "loss_fn = SF.mse_count_loss(correct_rate=1.0, incorrect_rate=0.0)\n",
    "\n",
    "\n",
    "\n",
    "from snntorch import utils\n",
    "\n",
    "def test_accuracy(data_loader, net, num_steps, population_code=False, num_classes=False):\n",
    "  with torch.no_grad():\n",
    "    total = 0\n",
    "    acc = 0\n",
    "    net.eval()\n",
    "\n",
    "    data_loader = iter(data_loader)\n",
    "    for data, targets in data_loader:\n",
    "      data = data.to(device)\n",
    "      targets = targets.to(device)\n",
    "      utils.reset(net)\n",
    "      spk_rec, _ = net(data)\n",
    "\n",
    "      if population_code:\n",
    "        acc += SF.accuracy_rate(spk_rec.unsqueeze(0), targets, population_code=True, num_classes=10) * spk_rec.size(1)\n",
    "      else:\n",
    "        acc += SF.accuracy_rate(spk_rec.unsqueeze(0), targets) * spk_rec.size(1)\n",
    "\n",
    "      total += spk_rec.size(1)\n",
    "\n",
    "  return acc/total\n",
    "\n",
    "\n",
    "from snntorch import backprop\n",
    "\n",
    "num_epochs = 5\n",
    "\n",
    "# training loop\n",
    "for epoch in range(num_epochs):\n",
    "\n",
    "    avg_loss = backprop.BPTT(net, train_loader, num_steps=num_steps,\n",
    "                          optimizer=optimizer, criterion=loss_fn, time_var=False, device=device)\n",
    "\n",
    "    print(f\"Epoch: {epoch}\")\n",
    "    print(f\"Test set accuracy: {test_accuracy(test_loader, net, num_steps)*100:.3f}%\\n\")"
   ],
   "metadata": {
    "collapsed": false,
    "ExecuteTime": {
     "end_time": "2024-06-25T17:47:25.648751Z",
     "start_time": "2024-06-25T17:46:55.405127Z"
    }
   },
   "id": "3a489fa13bd847f2",
   "execution_count": 22
  },
  {
   "cell_type": "code",
   "outputs": [
    {
     "name": "stdout",
     "output_type": "stream",
     "text": [
      "Epoch: 0\n",
      "Test set accuracy: 80.202%\n",
      "Epoch: 1\n",
      "Test set accuracy: 81.141%\n",
      "Epoch: 2\n",
      "Test set accuracy: 81.774%\n",
      "Epoch: 3\n",
      "Test set accuracy: 82.417%\n",
      "Epoch: 4\n",
      "Test set accuracy: 82.822%\n"
     ]
    }
   ],
   "source": [
    "loss_fn = SF.mse_count_loss(correct_rate=1.0, incorrect_rate=0.0, population_code=True, num_classes=10)\n",
    "optimizer = torch.optim.Adam(net_pop.parameters(), lr=2e-3, betas=(0.9, 0.999))\n",
    "\n",
    "num_epochs = 5\n",
    "\n",
    "# training loop\n",
    "for epoch in range(num_epochs):\n",
    "\n",
    "    avg_loss = backprop.BPTT(net_pop, train_loader, num_steps=num_steps,\n",
    "                            optimizer=optimizer, criterion=loss_fn, time_var=False, device=device)\n",
    "\n",
    "    print(f\"Epoch: {epoch}\")\n",
    "    print(f\"Test set accuracy: {test_accuracy(test_loader, net_pop, num_steps, population_code=True, num_classes=10)*100:.3f}%\\n\")\n",
    "\n",
    "                             \n",
    "                             "
   ],
   "metadata": {
    "collapsed": false,
    "ExecuteTime": {
     "end_time": "2024-06-25T17:49:27.566820Z",
     "start_time": "2024-06-25T17:48:52.238307Z"
    }
   },
   "id": "81af9ca127043262",
   "execution_count": 26
  },
  {
   "cell_type": "code",
   "outputs": [],
   "source": [],
   "metadata": {
    "collapsed": false
   },
   "id": "ba3d7811dfb295c7"
  }
 ],
 "metadata": {
  "kernelspec": {
   "display_name": "Python 3",
   "language": "python",
   "name": "python3"
  },
  "language_info": {
   "codemirror_mode": {
    "name": "ipython",
    "version": 2
   },
   "file_extension": ".py",
   "mimetype": "text/x-python",
   "name": "python",
   "nbconvert_exporter": "python",
   "pygments_lexer": "ipython2",
   "version": "2.7.6"
  }
 },
 "nbformat": 4,
 "nbformat_minor": 5
}
